{
 "cells": [
  {
   "cell_type": "code",
   "execution_count": 1,
   "metadata": {},
   "outputs": [],
   "source": [
    "import replicate\n",
    "from tqdm import tqdm\n",
    "import random\n",
    "import os\n",
    "from sklearn.metrics import mean_squared_error, r2_score\n",
    "from collections import Counter\n",
    "import numpy as np\n",
    "import re\n",
    "from sklearn.metrics import f1_score\n",
    "from sklearn.metrics import precision_recall_fscore_support\n",
    "from sklearn.metrics import matthews_corrcoef\n",
    "from sklearn.metrics import accuracy_score\n",
    "import pandas as pd\n",
    "import numpy as np\n",
    "import ast\n",
    "## model\n",
    "\n",
    "import pickle"
   ]
  },
  {
   "cell_type": "code",
   "execution_count": 2,
   "metadata": {},
   "outputs": [],
   "source": [
    "os.environ[\"REPLICATE_API_TOKEN\"] = \"r8_04rPEJPKNfBUADRXnqucmHpQmFAW5NU0Anovt\"\n",
    "api = replicate.Client(api_token=os.environ[\"REPLICATE_API_TOKEN\"])"
   ]
  },
  {
   "cell_type": "code",
   "execution_count": 15,
   "metadata": {},
   "outputs": [],
   "source": [
    "\n",
    "PARAMS = dict({\n",
    "\n",
    "\t'train_on': [2015, 2021, 2017, 2018, 2019, 2020, 2016],\n",
    "\t'test_on': [2023, 2022, 2024],\n",
    "\n",
    "\t'epochs': 60,\n",
    "\t'LR': 0.95e-4,\n",
    "\n",
    "\t'Pred_period': '3m',\n",
    "\t'Zero-Shot': 0,\n",
    "\t'Fine_Tune': 1,\n",
    "\t\"save_dir\": './3m.txt'\n",
    "\t})\n",
    "RESULTS = []\n",
    "INSTRUCTION = \"Financial reports data for a specefic company for the past four quarters is given in a tab-separated table bellow. \\\n",
    "in the table, K, M, and B means thousands, millions, and billions. predict if the stock price is going up or down at the end of the next quarter, in 3 months. \\\n",
    "Give a one word response with either [UP] or [DOWN]\"\n"
   ]
  },
  {
   "cell_type": "code",
   "execution_count": 32,
   "metadata": {},
   "outputs": [],
   "source": [
    "\n",
    "def extract_float(text):\n",
    "\t\tmatch = re.search(r\"[-+]?\\d*\\.\\d+\", text)\n",
    "\t\tif match:\n",
    "\t\t\t\treturn float(match.group(0))\n",
    "\t\telse:\n",
    "\t\t\t\treturn None\n",
    "\n",
    "def r4(value):\n",
    "\tif isinstance(value, float):\n",
    "\t\t# If the input is a single float, round it and format it to 4 decimal places\n",
    "\t\treturn f\"{round(value, 3):.3f}\"\n",
    "\telse:\n",
    "\t\tvalue = list(value)\n",
    "\t\treturn [f\"{round(v, 3):.3f}\" for v in value]\n",
    "\n",
    "def evaluate(y_test,y_pred, roundd = False, arrayed = False):\n",
    "\tprint(precision_recall_fscore_support(y_test, y_pred))    \n",
    "\t[pp, pn] = list(precision_recall_fscore_support(y_test, y_pred)[0])\n",
    "\t[rp, rn] = list(precision_recall_fscore_support(y_test, y_pred)[1])\n",
    "\t[fp, fn] = list(precision_recall_fscore_support(y_test, y_pred)[2])\n",
    "\twf1 = f1_score(y_test, y_pred, average = 'weighted')\n",
    "\tacc = accuracy_score(y_test, y_pred)\n",
    "\tmcc = matthews_corrcoef(y_test, y_pred)\n",
    "\tif roundd:\n",
    "\t\t[pp, pn] = [r4(pp), r4(pn)]\n",
    "\t\t[rp, rn] = [r4(rp), r4(rn)]\n",
    "\t\t[fp, fn] = [r4(fp), r4(fn)]\n",
    "\t\twf1 = r4(wf1)\n",
    "\t\tacc = r4(acc)\n",
    "\t\tmcc = r4(mcc)\n",
    "\t\n",
    "\t\n",
    "\tres =  {'P+-': [pp, pn],\\\n",
    "\t\t\t'R+-': [rp, rn],\\\n",
    "\t\t\t'f1s': [fp, fn],\\\n",
    "\t\t\t'wf1': wf1,\\\n",
    "\t\t\t'ACC': acc,\\\n",
    "\t\t\t'MCC': mcc}\n",
    "\t\n",
    "\tif arrayed:\n",
    "\t\treturn [pp, pn, rp, rn, fp, fn, wf1, acc, mcc]\n",
    "\treturn res\n",
    "\n",
    "def np_ratio(arr):\n",
    "\tar = []\n",
    "\tfor i in arr:\n",
    "\t\tif i == '[UP]':\n",
    "\t\t\tar.append(1)\n",
    "\t\telse:\n",
    "\t\t\tar.append(0)\n",
    "\tC = Counter(ar)\n",
    "\treturn 'Neg: ' + str(C[0]/(C[1]+C[0])) + ' Pos: ' + str(C[1]/(C[1]+C[0])) \n",
    "\n",
    "def evaluator(test_data):\n",
    "\tgenerated_output = []\n",
    "\treal_output = []\n",
    "\tfor i in tqdm(test_data):\n",
    "\t\tinput = {\n",
    "\t\t\t\"top_p\": 1,\n",
    "\t\t\t\"prompt\": i['input'] + '\\n Is the stock price going [UP] or [DOWN] 3 months from now? \\n Answer:\\n',\n",
    "\t\t\t\"temperature\": 0.25,\n",
    "\t\t\t\"system_prompt\": i['instruction'],\n",
    "\t\t\t\"max_new_tokens\": 20,\n",
    "\t\t\t\"repetition_penalty\":1.25\n",
    "\t\t}\n",
    "\t\toutput = api.run(\"meta/meta-llama-3-8b-instruct\",input=input)\n",
    "\t\toutput = ''.join(output)\n",
    "\t\tif 'up' in output.lower() and 'down' in output.lower():\n",
    "\t\t\tout_bin = None\n",
    "\t\telif 'up' in output.lower():\n",
    "\t\t\tout_bin = 1.0\n",
    "\t\telif 'down' in output.lower():\n",
    "\t\t\tout_bin = 0.0\n",
    "\t\telse:\n",
    "\t\t\tout_bin = None\n",
    "\n",
    "\t\tbenchmark = 1.0 if 'up' in i[\"output\"].lower() else 0.0\n",
    "\n",
    "\t\tgenerated_output.append(out_bin)\n",
    "\t\treal_output.append(benchmark)\n",
    "\n",
    "\tvalid_indices = [i for i, output in enumerate(generated_output) if output is not None]\n",
    "\tgenerated_output_filtered = np.array([generated_output[i] for i in valid_indices])\n",
    "\treal_output_filtered = np.array([real_output[i] for i in valid_indices])\n",
    "\tprint('validated generations:', len(generated_output_filtered)/len(test_data))\n",
    "\tres = evaluate(real_output_filtered, generated_output_filtered)\n",
    "\tprint('in evaluator', res)\n",
    "\treturn res, (real_output_filtered, generated_output_filtered)\n",
    "\n",
    "def get_dataset(target, train_years, test_years, bin_targets = True, dir = './prompts/'):\n",
    "\ttrain_datas = []\n",
    "\ttest_datas = []\n",
    "\n",
    "\tfor i in os.listdir(dir):\n",
    "\t\tif i.split('.')[-1]=='pkl':\n",
    "\t\t\twith open(dir+i, 'rb') as f:\n",
    "\t\t\t\tdata = pickle.load(f)\n",
    "\t\t\t\tdata = [dict(zip(data.keys(), values)) for values in zip(*data.values())]\n",
    "\t\t\t\t\n",
    "\t\t\t\tfor i in data:\n",
    "\t\t\t\t\ttarget_datum = i['targets_bin'][target] if bin_targets else i['targets'][target]\n",
    "\t\t\t\t\ttarget_datum = '[UP]' if target_datum else '[DOWN]'\n",
    "\t\t\t\t\tdatum = {'instruction': INSTRUCTION, 'input': i['prompts'], 'output': target_datum}\n",
    "\t\t\t\t\tif int(i['dates'].split('-')[0]) in train_years:\n",
    "\t\t\t\t\t\ttrain_datas.append(datum)\n",
    "\t\t\t\t\telif int(i['dates'].split('-')[0]) in test_years:\n",
    "\t\t\t\t\t\ttest_datas.append(datum)\n",
    "\trandom.shuffle(train_datas)\n",
    "\trandom.shuffle(test_datas)\n",
    "\treturn train_datas, test_datas\n",
    "\n",
    "def logger(res, model = 'LLaMA3-8B'):\n",
    "\tresu = {}\n",
    "\tresu['model'] = model\n",
    "\tfor i in res.keys():\n",
    "\t\tresu[i] = res[i]\n",
    "\tRESULTS.append(resu)\n"
   ]
  },
  {
   "cell_type": "code",
   "execution_count": 33,
   "metadata": {},
   "outputs": [],
   "source": [
    "train_dict, test_dict = \\\n",
    "\tget_dataset(target = PARAMS['Pred_period'], train_years = PARAMS['train_on'], test_years=PARAMS['test_on'])"
   ]
  },
  {
   "cell_type": "code",
   "execution_count": 34,
   "metadata": {},
   "outputs": [
    {
     "name": "stderr",
     "output_type": "stream",
     "text": [
      "100%|██████████| 100/100 [02:18<00:00,  1.39s/it]"
     ]
    },
    {
     "name": "stdout",
     "output_type": "stream",
     "text": [
      "validated generations: 1.0\n",
      "(array([0.64583333, 0.61538462]), array([0.60784314, 0.65306122]), array([0.62626263, 0.63366337]), array([51, 49]))\n",
      "in evaluator {'P+-': [0.6458333333333334, 0.6153846153846154], 'R+-': [0.6078431372549019, 0.6530612244897959], 'f1s': [0.6262626262626263, 0.6336633663366337], 'wf1': 0.6298889888988899, 'ACC': 0.63, 'MCC': 0.26106110814618794}\n"
     ]
    },
    {
     "name": "stderr",
     "output_type": "stream",
     "text": [
      "\n"
     ]
    }
   ],
   "source": [
    "res, stats = evaluator(test_dict[:100])\n",
    "    \n"
   ]
  },
  {
   "cell_type": "code",
   "execution_count": 35,
   "metadata": {},
   "outputs": [
    {
     "data": {
      "text/plain": [
       "{'P+-': [0.6458333333333334, 0.6153846153846154],\n",
       " 'R+-': [0.6078431372549019, 0.6530612244897959],\n",
       " 'f1s': [0.6262626262626263, 0.6336633663366337],\n",
       " 'wf1': 0.6298889888988899,\n",
       " 'ACC': 0.63,\n",
       " 'MCC': 0.26106110814618794}"
      ]
     },
     "execution_count": 35,
     "metadata": {},
     "output_type": "execute_result"
    }
   ],
   "source": [
    "res"
   ]
  },
  {
   "cell_type": "code",
   "execution_count": null,
   "metadata": {},
   "outputs": [],
   "source": []
  }
 ],
 "metadata": {
  "kernelspec": {
   "display_name": "env_python",
   "language": "python",
   "name": "python3"
  },
  "language_info": {
   "codemirror_mode": {
    "name": "ipython",
    "version": 3
   },
   "file_extension": ".py",
   "mimetype": "text/x-python",
   "name": "python",
   "nbconvert_exporter": "python",
   "pygments_lexer": "ipython3",
   "version": "3.11.4"
  }
 },
 "nbformat": 4,
 "nbformat_minor": 2
}

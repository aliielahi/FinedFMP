{
 "cells": [
  {
   "cell_type": "markdown",
   "id": "20e94d3a",
   "metadata": {},
   "source": [
    "# data availability and states + Prompt Generation\n",
    "\n",
    "date format in this notebook is yyyy-mm-dd"
   ]
  },
  {
   "cell_type": "code",
   "execution_count": 1,
   "id": "16954e14",
   "metadata": {},
   "outputs": [],
   "source": [
    "import os\n",
    "import re\n",
    "import pandas as pd\n",
    "import numpy as np\n",
    "from tqdm import tqdm\n",
    "import ast\n",
    "import pickle \n",
    "import random\n",
    "import matplotlib.pyplot as plt\n",
    "import datetime\n",
    "from collections import defaultdict\n",
    "from dateutil.relativedelta import relativedelta\n",
    "from datetime import datetime\n",
    "from datetime import datetime, timedelta\n",
    "from sklearn.mixture import GaussianMixture\n",
    "\n",
    "from sklearn.metrics.pairwise import cosine_similarity"
   ]
  },
  {
   "cell_type": "code",
   "execution_count": 2,
   "id": "cb6f2a4f",
   "metadata": {},
   "outputs": [],
   "source": [
    "from utils.evaluate import evaluate, r4\n",
    "from utils.openai import OpenAIEmbedding\n",
    "from utils.utils import human_format_number, human_format_number2\n",
    "from utils.companies import company100_name, company100_name_shorten, company100_ticker, Company_desc100\n",
    "\n",
    "OAE = OpenAIEmbedding()"
   ]
  },
  {
   "cell_type": "code",
   "execution_count": 3,
   "id": "e51bda5d",
   "metadata": {},
   "outputs": [],
   "source": [
    "from DataProcessor.historic import get_target, get_momentums, historic_moving_average_6m\n",
    "from DataProcessor.historic import historic_vol_moving_average_6m, historic_6m, historic_moving_std_6m"
   ]
  },
  {
   "cell_type": "code",
   "execution_count": 4,
   "id": "f2ef3c84",
   "metadata": {},
   "outputs": [],
   "source": [
    "from DataProcessor.news import historic_news, clean_news"
   ]
  },
  {
   "cell_type": "code",
   "execution_count": 5,
   "id": "894d6ff0",
   "metadata": {},
   "outputs": [],
   "source": [
    "from DataProcessor.financials import financials_nq"
   ]
  },
  {
   "cell_type": "code",
   "execution_count": 6,
   "id": "7ff5fadc",
   "metadata": {},
   "outputs": [],
   "source": [
    "from openai import OpenAI\n",
    "client = OpenAI(api_key='YOUR_API_KEY')\n"
   ]
  },
  {
   "cell_type": "code",
   "execution_count": 7,
   "id": "3e52f132",
   "metadata": {},
   "outputs": [],
   "source": [
    "start_date = '2015-01-01'\n",
    "end_date = '2024-01-01'\n",
    "date_range = pd.date_range(start=start_date, end=end_date, freq='MS')\n",
    "formatted_dates = date_range.strftime('%Y-%m-%d').tolist()"
   ]
  },
  {
   "cell_type": "markdown",
   "id": "9a4d9eda",
   "metadata": {},
   "source": [
    "## Directories"
   ]
  },
  {
   "cell_type": "code",
   "execution_count": 8,
   "id": "2f63e44e",
   "metadata": {},
   "outputs": [],
   "source": [
    "dataset_path = '../dataset/'\n",
    "historic_data_path = '../dataset/Historical Price/'\n",
    "financials_data_path = '../dataset/Financial Quarterly Reports/'\n",
    "news_data_path = '../dataset/News Articles/'\n",
    "news_wsj_path = '../dataset/News Articles/WSJ-Header/'\n",
    "news_nyt_path = '../dataset/News Articles/NYT/110/'\n",
    "news_alphav_path = '../dataset/News Articles/Alpha-V/without text 104/'\n",
    "news_CMINUS_path = '../dataset/News Articles/CMIN-US/'\n",
    "news_path = '../dataset/News Articles/embedded/'\n",
    "dotcsv = '.csv'"
   ]
  },
  {
   "cell_type": "code",
   "execution_count": 9,
   "id": "ac7f21dd",
   "metadata": {},
   "outputs": [],
   "source": [
    "def get_dir_list(path):\n",
    "    listt = os.listdir(path)\n",
    "    if '.DS_Store' in listt:\n",
    "        listt.remove('.DS_Store')\n",
    "    if '.ipynb_checkpoints' in listt:\n",
    "        listt.remove('.ipynb_checkpoints')\n",
    "    return listt"
   ]
  },
  {
   "cell_type": "markdown",
   "id": "948dd734",
   "metadata": {},
   "source": [
    "# News Summerizer"
   ]
  },
  {
   "cell_type": "code",
   "execution_count": 11,
   "id": "4dc9d32f",
   "metadata": {},
   "outputs": [],
   "source": [
    "prompt_template = \"\"\"You are processing news headlines and abstracts to extract meaningful information \\\n",
    "in sentence form, with each sentence capturing key details. Provide up to 4 \\\n",
    "short bullet points, summarizing important aspects such as a company's performance, \\\n",
    "stock market activity, new products, important personnel, and relevant news about competitors or rival companies. \\\n",
    "For example:\\nThe company launched a new product.\\nThe CEO of the company passed away.\\n\\\n",
    "The industry is experiencing a recession.\\nA rival company is performing well.\n",
    "Market analysts recommend not investing in the company.\\n\\nNews about company {ticker}:\\n{text}\"\"\"\n",
    "\n",
    "prompt_template = \"\"\"you are processing news headline and the abstract to extract \\\n",
    "meaningful information in bullet point format. There can be up to 4 bullet point summaries.\\\n",
    "each bullet point should include few words.\\\n",
    "The summaries should be informative about a company's performance generally or in stock market, \\\n",
    "new products, people working at the company, news about the rival companies etc.\n",
    "\n",
    "for example:\n",
    "company new product X\n",
    "company CEO died\n",
    "company's industry in recession \n",
    "company's rival performing good\n",
    "market analysts say don't invest\n",
    "company's rival product release x\n",
    "company's product x discontinued\n",
    "\n",
    "\n",
    "News for company {ticker} ({text})::\\n\"\"\"\n",
    "\n",
    "def get_name(ticker):\n",
    "    for i in range(len(company100_ticker)):\n",
    "        if ticker == company100_ticker[i]:\n",
    "            return company100_name[i]\n",
    "    return \"Company X\"\n",
    "\n",
    "def find_best_gmm_n_clusters(embeddings, force_two=False):\n",
    "    bic_values = []\n",
    "    \n",
    "    n_components_range = range(1, int(len(embeddings)/10)+2)\n",
    "    if len(embeddings) < 20: n_components_range = [1,2]\n",
    "    if force_two:\n",
    "        n_components_range = range(2, int(len(embeddings)/10)+1)\n",
    "        if len(embeddings) < 20: n_components_range = [2,3]\n",
    "    for n_components in n_components_range:\n",
    "        gmm = GaussianMixture(n_components=n_components, random_state=0)\n",
    "        gmm.fit(embeddings)\n",
    "        bic_values.append(gmm.bic(embeddings))\n",
    "    optimal_n_clusters_bic = n_components_range[np.argmin(bic_values)]\n",
    "    return optimal_n_clusters_bic\n",
    "\n",
    "def summarize_text(model, text, prompt, ticker):\n",
    "    ticker = get_name(ticker)\n",
    "    try:\n",
    "        prompt = prompt\n",
    "        prompt = prompt.format(ticker=ticker, text=text)\n",
    "        \n",
    "        if model == \"gpt-3.5-turbo\":\n",
    "            completion = client.chat.completions.create(\n",
    "                model=model,\n",
    "                messages=[\n",
    "                    {\"role\": \"system\", \"content\": \"You are a helpful assistant.\"},\n",
    "                    {\"role\": \"user\", \"content\": prompt},\n",
    "                ]\n",
    "            )\n",
    "            summary = completion.choices[0].message.content.strip()\n",
    "\n",
    "        elif model == \"gpt-3.5-turbo-instruct\":\n",
    "            response = client.completions.create(\n",
    "                model=model,\n",
    "                prompt=prompt,\n",
    "                max_tokens=50,\n",
    "            )\n",
    "            summary = response.choices[0].text.strip()\n",
    "\n",
    "        else:\n",
    "            raise ValueError(\"Unsupported model specified.\")\n",
    "        return summary\n",
    "    except Exception as e:\n",
    "        print(f\"Error summarizing text: {e}\")\n",
    "        return None\n",
    "\n",
    "def summarize_news(news_data, ticker, model, max_words=2500, parent_cluster=None, cluster_level=0, force_two=False):\n",
    "    all_summaries = \"\"\n",
    "    embeddings = np.array([np.array(embedding) for embedding in news_data['Embedding'].values()])\n",
    "    optimal_n_clusters = find_best_gmm_n_clusters(embeddings, force_two)\n",
    "    gmm = GaussianMixture(n_components=optimal_n_clusters, random_state=0)\n",
    "    gmm_labels = gmm.fit_predict(embeddings)\n",
    "    keys = list(news_data['Embedding'].keys())\n",
    "    cluster_labels = {key: label for key, label in zip(keys, gmm_labels)}\n",
    "    \n",
    "    news_data['Cluster'] = cluster_labels\n",
    "    clusters = sorted(set(gmm_labels))\n",
    "    # print('hii', len(news_data['Embedding']), clusters)\n",
    "    # print(cluster_labels)\n",
    "    for cluster in clusters:\n",
    "        cluster_keys = [key for key, label in cluster_labels.items() if label == cluster]\n",
    "        cluster_news = set(news_data['Combined'][key] for key in cluster_keys)\n",
    "        news = '\\n'.join(f\"{item}\" for item in cluster_news)\n",
    "        if news:\n",
    "            words_per_cluster = news.split()\n",
    "            if len(words_per_cluster) > max_words:\n",
    "                subcluster_news_data = {\n",
    "                    'Embedding': {key: news_data['Embedding'][key] for key in cluster_keys},\n",
    "                    'Combined': {key: news_data['Combined'][key] for key in cluster_keys}\n",
    "                }\n",
    "                subcluster_summary, updated_subcluster_data = summarize_news(\n",
    "                    subcluster_news_data, ticker, model, max_words, parent_cluster=cluster, cluster_level=cluster_level + 1, force_two=True\n",
    "                )\n",
    "\n",
    "                #news_data['Cluster'].update(updated_subcluster_data['Cluster'])\n",
    "                all_summaries += subcluster_summary\n",
    "            else:\n",
    "                summary = summarize_text(model, news, prompt_template, ticker)\n",
    "                if summary:\n",
    "                    all_summaries += summary + \"\\n\"\n",
    "    return all_summaries, news_data"
   ]
  },
  {
   "cell_type": "markdown",
   "id": "f4e65127",
   "metadata": {},
   "source": [
    "# Create Prompts Data Loader"
   ]
  },
  {
   "cell_type": "code",
   "execution_count": 12,
   "id": "d1e2b77b",
   "metadata": {},
   "outputs": [],
   "source": [
    "def process_historic(ticker, qdate, include_volume = 0.0):\n",
    "    try:\n",
    "        ma = \", \".join(r4(historic_moving_average_6m(ticker, qdate)))\n",
    "        \n",
    "        nancount = ma.count('nan')\n",
    "        if nancount > 1:\n",
    "            return (-1, \"too many missing data in historic data\")\n",
    "        moving_average_temp = \"\"\"Moving average for monthly price data for past 6 moths: $ma$\"\"\"\n",
    "        res = moving_average_temp.replace('$ma$', ma)\n",
    "        if np.random.rand() >= include_volume:\n",
    "            formatted_numbers = [human_format_number2(num) for num in historic_vol_moving_average_6m(ticker, qdate)]\n",
    "            va = \", \".join(formatted_numbers)\n",
    "            moving_volume_temp = \"\"\"Average volume of exchange for last 6 monts from old to new: $va$\"\"\"\n",
    "            moving_volume_temp = moving_volume_temp.replace('$va$', va)\n",
    "            res = res + '\\n' + moving_volume_temp\n",
    "    except Exception as e:\n",
    "        return (-1, e)\n",
    "    return (1, str('historic price data:\\n'+res))\n",
    "\n",
    "def process_financials(ticker, qdate):\n",
    "    try:\n",
    "        res = 'Financial data for last four quarters from old to new:\\n'\n",
    "        fins = financials_nq(ticker, qdate, 4)\n",
    "\n",
    "        dates = 'dates:\\t' + '\\t'.join([str(i).split()[0] for i in fins['date']]) + '\\n'\n",
    "        res+= dates\n",
    "        wanted_features = ['total revenue',  'net income', 'total assets', \\\n",
    "                           'averageMarketPrice', 'earning per share', 'free cash flow', \\\n",
    "                            'quarterly EPS growth', 'cashflow to assets', 'operating margin']\n",
    "        keys = list(fins.keys())[1:]\n",
    "\n",
    "        if len(keys) <= 10:\n",
    "            return (-1, \"Too many missing Values in financials\")\n",
    "        sampled_dict = {key: fins[key] for key in keys if key in wanted_features}\n",
    "\n",
    "        a = [kl + ':\\t' + \"\\t\"\n",
    "                .join([str(human_format_number2(num)) for num in sampled_dict[kl]]) for kl in sampled_dict]\n",
    "        for i in a:\n",
    "            if len(i) < 30:\n",
    "                return (-1, 'not enough data')\n",
    "            if i.count('nan') > 2:\n",
    "                return (-1, \"Too many missing data\")\n",
    "    except Exception as e:\n",
    "        return (-1, e)\n",
    "    res = res+'\\n'.join(a)\n",
    "    res = res.replace('averageMarketPrice', 'average market price')\n",
    "    return (1, res)\n",
    "\n",
    "def process_news(ticker, qdate, model):\n",
    "    try: \n",
    "        path = news_path + ticker + dotcsv\n",
    "        news = historic_news(path, ticker, qdate, '1m')\n",
    "        news = clean_news(news)\n",
    "        if len(news) < 20:\n",
    "            news = historic_news(path, ticker, qdate, '3m')\n",
    "        news = clean_news(news)\n",
    "        if len(news)<2:\n",
    "            return (-1, \"not enough news data\")\n",
    "    except Exception as e:\n",
    "        return (-1, \"loading news from file:\" + str(e))\n",
    "    # try:\n",
    "    news_data = {\"Combined\": {}, \"Embedding\": {}}\n",
    "    for i, item in enumerate(news):\n",
    "        news_data[\"Combined\"][i] = str(item[\"headline\"]) + \" \" + str(item[\"abstract\"])\n",
    "        news_data[\"Embedding\"][i] = ast.literal_eval(item[\"embedding\"])\n",
    "    summary, _ = summarize_news(news_data, ticker, model, max_words=3000)\n",
    "    # print(_)\n",
    "    # except Exception as e:\n",
    "        # return (-1, \"summarizer:\" + str(e))\n",
    "    return (1, \"News Summaries:\\n\"+ summary)"
   ]
  },
  {
   "cell_type": "markdown",
   "id": "e2a52a47",
   "metadata": {},
   "source": [
    "# Promp Generation"
   ]
  },
  {
   "cell_type": "code",
   "execution_count": 13,
   "id": "6cdb60ae",
   "metadata": {},
   "outputs": [
    {
     "name": "stderr",
     "output_type": "stream",
     "text": [
      "100%|██████████| 108/108 [13:37<00:00,  7.57s/it]\n"
     ]
    },
    {
     "name": "stdout",
     "output_type": "stream",
     "text": [
      "108 prompts generated for T\n",
      "55 VZ\n"
     ]
    },
    {
     "name": "stderr",
     "output_type": "stream",
     "text": [
      "100%|██████████| 108/108 [09:17<00:00,  5.16s/it]\n"
     ]
    },
    {
     "name": "stdout",
     "output_type": "stream",
     "text": [
      "108 prompts generated for VZ\n",
      "56 AMT\n"
     ]
    },
    {
     "name": "stderr",
     "output_type": "stream",
     "text": [
      "  1%|          | 1/108 [00:00<00:27,  3.83it/s]"
     ]
    },
    {
     "name": "stdout",
     "output_type": "stream",
     "text": [
      "error-process_news AMT 2015-02-01 not enough news data\n"
     ]
    },
    {
     "name": "stderr",
     "output_type": "stream",
     "text": [
      "  2%|▏         | 2/108 [00:00<00:25,  4.13it/s]"
     ]
    },
    {
     "name": "stdout",
     "output_type": "stream",
     "text": [
      "error-process_news AMT 2015-03-01 not enough news data\n"
     ]
    },
    {
     "name": "stderr",
     "output_type": "stream",
     "text": [
      "  5%|▍         | 5/108 [00:02<01:04,  1.61it/s]"
     ]
    },
    {
     "name": "stdout",
     "output_type": "stream",
     "text": [
      "error-process_news AMT 2015-06-01 not enough news data\n"
     ]
    },
    {
     "name": "stderr",
     "output_type": "stream",
     "text": [
      "  6%|▌         | 6/108 [00:03<00:49,  2.07it/s]"
     ]
    },
    {
     "name": "stdout",
     "output_type": "stream",
     "text": [
      "error-process_news AMT 2015-07-01 not enough news data\n"
     ]
    },
    {
     "name": "stderr",
     "output_type": "stream",
     "text": [
      "  6%|▋         | 7/108 [00:03<00:39,  2.53it/s]"
     ]
    },
    {
     "name": "stdout",
     "output_type": "stream",
     "text": [
      "error-process_news AMT 2015-08-01 not enough news data\n"
     ]
    },
    {
     "name": "stderr",
     "output_type": "stream",
     "text": [
      "  7%|▋         | 8/108 [00:03<00:33,  2.97it/s]"
     ]
    },
    {
     "name": "stdout",
     "output_type": "stream",
     "text": [
      "error-process_news AMT 2015-09-01 not enough news data\n"
     ]
    },
    {
     "name": "stderr",
     "output_type": "stream",
     "text": [
      "  8%|▊         | 9/108 [00:03<00:29,  3.31it/s]"
     ]
    },
    {
     "name": "stdout",
     "output_type": "stream",
     "text": [
      "error-process_news AMT 2015-10-01 not enough news data\n"
     ]
    },
    {
     "name": "stderr",
     "output_type": "stream",
     "text": [
      "  9%|▉         | 10/108 [00:04<00:27,  3.61it/s]"
     ]
    },
    {
     "name": "stdout",
     "output_type": "stream",
     "text": [
      "error-process_news AMT 2015-11-01 not enough news data\n"
     ]
    },
    {
     "name": "stderr",
     "output_type": "stream",
     "text": [
      " 10%|█         | 11/108 [00:04<00:25,  3.87it/s]"
     ]
    },
    {
     "name": "stdout",
     "output_type": "stream",
     "text": [
      "error-process_news AMT 2015-12-01 not enough news data\n"
     ]
    },
    {
     "name": "stderr",
     "output_type": "stream",
     "text": [
      " 11%|█         | 12/108 [00:04<00:23,  4.08it/s]"
     ]
    },
    {
     "name": "stdout",
     "output_type": "stream",
     "text": [
      "error-process_news AMT 2016-01-01 not enough news data\n"
     ]
    },
    {
     "name": "stderr",
     "output_type": "stream",
     "text": [
      " 12%|█▏        | 13/108 [00:04<00:22,  4.21it/s]"
     ]
    },
    {
     "name": "stdout",
     "output_type": "stream",
     "text": [
      "error-process_news AMT 2016-02-01 not enough news data\n"
     ]
    },
    {
     "name": "stderr",
     "output_type": "stream",
     "text": [
      " 13%|█▎        | 14/108 [00:04<00:21,  4.34it/s]"
     ]
    },
    {
     "name": "stdout",
     "output_type": "stream",
     "text": [
      "error-process_news AMT 2016-03-01 not enough news data\n"
     ]
    },
    {
     "name": "stderr",
     "output_type": "stream",
     "text": [
      " 14%|█▍        | 15/108 [00:05<00:20,  4.45it/s]"
     ]
    },
    {
     "name": "stdout",
     "output_type": "stream",
     "text": [
      "error-process_news AMT 2016-04-01 not enough news data\n"
     ]
    },
    {
     "name": "stderr",
     "output_type": "stream",
     "text": [
      " 15%|█▍        | 16/108 [00:05<00:20,  4.52it/s]"
     ]
    },
    {
     "name": "stdout",
     "output_type": "stream",
     "text": [
      "error-process_news AMT 2016-05-01 not enough news data\n"
     ]
    },
    {
     "name": "stderr",
     "output_type": "stream",
     "text": [
      " 16%|█▌        | 17/108 [00:05<00:19,  4.58it/s]"
     ]
    },
    {
     "name": "stdout",
     "output_type": "stream",
     "text": [
      "error-process_news AMT 2016-06-01 not enough news data\n"
     ]
    },
    {
     "name": "stderr",
     "output_type": "stream",
     "text": [
      " 17%|█▋        | 18/108 [00:05<00:19,  4.62it/s]"
     ]
    },
    {
     "name": "stdout",
     "output_type": "stream",
     "text": [
      "error-process_news AMT 2016-07-01 not enough news data\n"
     ]
    },
    {
     "name": "stderr",
     "output_type": "stream",
     "text": [
      " 18%|█▊        | 19/108 [00:06<00:20,  4.37it/s]"
     ]
    },
    {
     "name": "stdout",
     "output_type": "stream",
     "text": [
      "error-process_news AMT 2016-08-01 not enough news data\n"
     ]
    },
    {
     "name": "stderr",
     "output_type": "stream",
     "text": [
      " 19%|█▊        | 20/108 [00:06<00:19,  4.48it/s]"
     ]
    },
    {
     "name": "stdout",
     "output_type": "stream",
     "text": [
      "error-process_news AMT 2016-09-01 not enough news data\n"
     ]
    },
    {
     "name": "stderr",
     "output_type": "stream",
     "text": [
      " 19%|█▉        | 21/108 [00:06<00:19,  4.55it/s]"
     ]
    },
    {
     "name": "stdout",
     "output_type": "stream",
     "text": [
      "error-process_news AMT 2016-10-01 not enough news data\n"
     ]
    },
    {
     "name": "stderr",
     "output_type": "stream",
     "text": [
      " 20%|██        | 22/108 [00:06<00:18,  4.54it/s]"
     ]
    },
    {
     "name": "stdout",
     "output_type": "stream",
     "text": [
      "error-process_news AMT 2016-11-01 not enough news data\n"
     ]
    },
    {
     "name": "stderr",
     "output_type": "stream",
     "text": [
      " 21%|██▏       | 23/108 [00:06<00:18,  4.59it/s]"
     ]
    },
    {
     "name": "stdout",
     "output_type": "stream",
     "text": [
      "error-process_news AMT 2016-12-01 not enough news data\n"
     ]
    },
    {
     "name": "stderr",
     "output_type": "stream",
     "text": [
      " 22%|██▏       | 24/108 [00:07<00:18,  4.62it/s]"
     ]
    },
    {
     "name": "stdout",
     "output_type": "stream",
     "text": [
      "error-process_news AMT 2017-01-01 not enough news data\n"
     ]
    },
    {
     "name": "stderr",
     "output_type": "stream",
     "text": [
      " 23%|██▎       | 25/108 [00:07<00:17,  4.64it/s]"
     ]
    },
    {
     "name": "stdout",
     "output_type": "stream",
     "text": [
      "error-process_news AMT 2017-02-01 not enough news data\n"
     ]
    },
    {
     "name": "stderr",
     "output_type": "stream",
     "text": [
      " 24%|██▍       | 26/108 [00:07<00:17,  4.68it/s]"
     ]
    },
    {
     "name": "stdout",
     "output_type": "stream",
     "text": [
      "error-process_news AMT 2017-03-01 not enough news data\n"
     ]
    },
    {
     "name": "stderr",
     "output_type": "stream",
     "text": [
      " 25%|██▌       | 27/108 [00:07<00:17,  4.69it/s]"
     ]
    },
    {
     "name": "stdout",
     "output_type": "stream",
     "text": [
      "error-process_news AMT 2017-04-01 not enough news data\n"
     ]
    },
    {
     "name": "stderr",
     "output_type": "stream",
     "text": [
      " 26%|██▌       | 28/108 [00:07<00:17,  4.70it/s]"
     ]
    },
    {
     "name": "stdout",
     "output_type": "stream",
     "text": [
      "error-process_news AMT 2017-05-01 not enough news data\n"
     ]
    },
    {
     "name": "stderr",
     "output_type": "stream",
     "text": [
      " 27%|██▋       | 29/108 [00:08<00:16,  4.69it/s]"
     ]
    },
    {
     "name": "stdout",
     "output_type": "stream",
     "text": [
      "error-process_news AMT 2017-06-01 not enough news data\n"
     ]
    },
    {
     "name": "stderr",
     "output_type": "stream",
     "text": [
      " 28%|██▊       | 30/108 [00:08<00:16,  4.69it/s]"
     ]
    },
    {
     "name": "stdout",
     "output_type": "stream",
     "text": [
      "error-process_news AMT 2017-07-01 not enough news data\n"
     ]
    },
    {
     "name": "stderr",
     "output_type": "stream",
     "text": [
      " 29%|██▊       | 31/108 [00:08<00:16,  4.69it/s]"
     ]
    },
    {
     "name": "stdout",
     "output_type": "stream",
     "text": [
      "error-process_news AMT 2017-08-01 not enough news data\n"
     ]
    },
    {
     "name": "stderr",
     "output_type": "stream",
     "text": [
      " 30%|██▉       | 32/108 [00:08<00:16,  4.65it/s]"
     ]
    },
    {
     "name": "stdout",
     "output_type": "stream",
     "text": [
      "error-process_news AMT 2017-09-01 not enough news data\n"
     ]
    },
    {
     "name": "stderr",
     "output_type": "stream",
     "text": [
      " 31%|███       | 33/108 [00:08<00:16,  4.65it/s]"
     ]
    },
    {
     "name": "stdout",
     "output_type": "stream",
     "text": [
      "error-process_news AMT 2017-10-01 not enough news data\n"
     ]
    },
    {
     "name": "stderr",
     "output_type": "stream",
     "text": [
      " 31%|███▏      | 34/108 [00:09<00:16,  4.37it/s]"
     ]
    },
    {
     "name": "stdout",
     "output_type": "stream",
     "text": [
      "error-process_news AMT 2017-11-01 not enough news data\n"
     ]
    },
    {
     "name": "stderr",
     "output_type": "stream",
     "text": [
      " 32%|███▏      | 35/108 [00:09<00:16,  4.48it/s]"
     ]
    },
    {
     "name": "stdout",
     "output_type": "stream",
     "text": [
      "error-process_news AMT 2017-12-01 not enough news data\n"
     ]
    },
    {
     "name": "stderr",
     "output_type": "stream",
     "text": [
      " 33%|███▎      | 36/108 [00:09<00:15,  4.55it/s]"
     ]
    },
    {
     "name": "stdout",
     "output_type": "stream",
     "text": [
      "error-process_news AMT 2018-01-01 not enough news data\n"
     ]
    },
    {
     "name": "stderr",
     "output_type": "stream",
     "text": [
      "100%|██████████| 108/108 [03:15<00:00,  1.81s/it]\n"
     ]
    },
    {
     "name": "stdout",
     "output_type": "stream",
     "text": [
      "74 prompts generated for AMT\n",
      "57 CAT\n"
     ]
    },
    {
     "name": "stderr",
     "output_type": "stream",
     "text": [
      "100%|██████████| 108/108 [05:12<00:00,  2.89s/it]\n"
     ]
    },
    {
     "name": "stdout",
     "output_type": "stream",
     "text": [
      "108 prompts generated for CAT\n",
      "58 DLR\n"
     ]
    },
    {
     "name": "stderr",
     "output_type": "stream",
     "text": [
      "  1%|          | 1/108 [00:00<00:14,  7.50it/s]"
     ]
    },
    {
     "name": "stdout",
     "output_type": "stream",
     "text": [
      "error-process_news DLR 2015-02-01 not enough news data\n"
     ]
    },
    {
     "name": "stderr",
     "output_type": "stream",
     "text": [
      "  3%|▎         | 3/108 [00:00<00:11,  9.46it/s]"
     ]
    },
    {
     "name": "stdout",
     "output_type": "stream",
     "text": [
      "error-process_news DLR 2015-03-01 not enough news data\n",
      "error-process_news DLR 2015-04-01 not enough news data\n",
      "error-process_news DLR 2015-05-01 not enough news data\n"
     ]
    },
    {
     "name": "stderr",
     "output_type": "stream",
     "text": [
      "  5%|▍         | 5/108 [00:00<00:10,  9.93it/s]"
     ]
    },
    {
     "name": "stdout",
     "output_type": "stream",
     "text": [
      "error-process_news DLR 2015-06-01 not enough news data\n",
      "error-process_news DLR 2015-07-01 not enough news data\n"
     ]
    },
    {
     "name": "stderr",
     "output_type": "stream",
     "text": [
      "  6%|▋         | 7/108 [00:00<00:09, 10.11it/s]"
     ]
    },
    {
     "name": "stdout",
     "output_type": "stream",
     "text": [
      "error-process_news DLR 2015-08-01 not enough news data\n"
     ]
    },
    {
     "name": "stderr",
     "output_type": "stream",
     "text": [
      "  8%|▊         | 9/108 [00:00<00:09, 10.23it/s]"
     ]
    },
    {
     "name": "stdout",
     "output_type": "stream",
     "text": [
      "error-process_news DLR 2015-09-01 not enough news data\n",
      "error-process_news DLR 2015-10-01 not enough news data\n",
      "error-process_news DLR 2015-11-01 not enough news data\n"
     ]
    },
    {
     "name": "stderr",
     "output_type": "stream",
     "text": [
      " 10%|█         | 11/108 [00:01<00:09, 10.23it/s]"
     ]
    },
    {
     "name": "stdout",
     "output_type": "stream",
     "text": [
      "error-process_news DLR 2015-12-01 not enough news data\n",
      "error-process_news DLR 2016-01-01 not enough news data\n"
     ]
    },
    {
     "name": "stderr",
     "output_type": "stream",
     "text": [
      " 12%|█▏        | 13/108 [00:01<00:09, 10.32it/s]"
     ]
    },
    {
     "name": "stdout",
     "output_type": "stream",
     "text": [
      "error-process_news DLR 2016-02-01 not enough news data\n"
     ]
    },
    {
     "name": "stderr",
     "output_type": "stream",
     "text": [
      " 14%|█▍        | 15/108 [00:01<00:08, 10.38it/s]"
     ]
    },
    {
     "name": "stdout",
     "output_type": "stream",
     "text": [
      "error-process_news DLR 2016-03-01 not enough news data\n",
      "error-process_news DLR 2016-04-01 not enough news data\n",
      "error-process_news DLR 2016-05-01 not enough news data\n"
     ]
    },
    {
     "name": "stderr",
     "output_type": "stream",
     "text": [
      " 16%|█▌        | 17/108 [00:01<00:08, 10.30it/s]"
     ]
    },
    {
     "name": "stdout",
     "output_type": "stream",
     "text": [
      "error-process_news DLR 2016-06-01 not enough news data\n",
      "error-process_news DLR 2016-07-01 not enough news data\n"
     ]
    },
    {
     "name": "stderr",
     "output_type": "stream",
     "text": [
      " 18%|█▊        | 19/108 [00:01<00:08, 10.32it/s]"
     ]
    },
    {
     "name": "stdout",
     "output_type": "stream",
     "text": [
      "error-process_news DLR 2016-08-01 not enough news data\n",
      "error-process_news DLR 2016-09-01 not enough news data\n",
      "error-process_news DLR 2016-10-01 not enough news data\n"
     ]
    },
    {
     "name": "stderr",
     "output_type": "stream",
     "text": [
      " 21%|██▏       | 23/108 [00:02<00:08, 10.05it/s]"
     ]
    },
    {
     "name": "stdout",
     "output_type": "stream",
     "text": [
      "error-process_news DLR 2016-11-01 not enough news data\n",
      "error-process_news DLR 2016-12-01 not enough news data\n",
      "error-process_news DLR 2017-01-01 not enough news data\n"
     ]
    },
    {
     "name": "stderr",
     "output_type": "stream",
     "text": [
      " 25%|██▌       | 27/108 [00:02<00:08,  9.80it/s]"
     ]
    },
    {
     "name": "stdout",
     "output_type": "stream",
     "text": [
      "error-process_news DLR 2017-02-01 not enough news data\n",
      "error-process_news DLR 2017-03-01 not enough news data\n",
      "error-process_news DLR 2017-04-01 not enough news data\n"
     ]
    },
    {
     "name": "stderr",
     "output_type": "stream",
     "text": [
      " 27%|██▋       | 29/108 [00:02<00:07, 10.00it/s]"
     ]
    },
    {
     "name": "stdout",
     "output_type": "stream",
     "text": [
      "error-process_news DLR 2017-05-01 not enough news data\n",
      "error-process_news DLR 2017-06-01 not enough news data\n",
      "error-process_news DLR 2017-07-01 not enough news data\n"
     ]
    },
    {
     "name": "stderr",
     "output_type": "stream",
     "text": [
      " 32%|███▏      | 35/108 [00:05<00:16,  4.37it/s]"
     ]
    },
    {
     "name": "stdout",
     "output_type": "stream",
     "text": [
      "error-process_news DLR 2017-10-01 not enough news data\n",
      "error-process_news DLR 2017-11-01 not enough news data\n",
      "error-process_news DLR 2017-12-01 not enough news data\n",
      "error-process_news DLR 2018-01-01 not enough news data\n"
     ]
    },
    {
     "name": "stderr",
     "output_type": "stream",
     "text": [
      "100%|██████████| 108/108 [01:52<00:00,  1.04s/it]\n"
     ]
    },
    {
     "name": "stdout",
     "output_type": "stream",
     "text": [
      "74 prompts generated for DLR\n",
      "59 JD\n"
     ]
    },
    {
     "name": "stderr",
     "output_type": "stream",
     "text": [
      " 36%|███▌      | 39/108 [01:12<04:28,  3.89s/it]"
     ]
    }
   ],
   "source": [
    "start_from = 53\n",
    "for coounter, ticker in enumerate(company100_ticker[start_from:start_from+7]):\n",
    "    print(coounter+start_from, ticker)\n",
    "    prompts = []\n",
    "    \n",
    "    for qdate in tqdm(formatted_dates[1:]):\n",
    "        status_t, targets_bin = get_target(ticker, qdate, binn = True)\n",
    "        status_b, target = get_target(ticker, qdate, binn = False)\n",
    "        if status_t + status_b <= 0 : \n",
    "            print('error-get_target', ticker, qdate, target)\n",
    "            continue\n",
    "        status_h, historic = process_historic(ticker, qdate, 1)\n",
    "        if status_h == -1:\n",
    "            print('error-process_historic', ticker, qdate, historic)\n",
    "            historic = ''\n",
    "        status_f, financials = process_financials(ticker, qdate)\n",
    "        if status_f == -1:\n",
    "            print('error-process_financials', ticker, qdate, financials)\n",
    "            financials = ''\n",
    "        if status_t + status_b < 0 : \n",
    "            continue\n",
    "\n",
    "        status_n, news_summaries = process_news(ticker, qdate, model = \"gpt-3.5-turbo\")\n",
    "        if status_n == -1:\n",
    "            print('error-process_news', ticker, qdate, news_summaries)\n",
    "            continue\n",
    "        comp_disc = Company_desc100[ticker]\n",
    "\n",
    "        datum = {'prompt': comp_disc + '\\n' + news_summaries +\\\n",
    "                '\\n' + financials + '\\n' + historic,\n",
    "                  'ticker': ticker,\n",
    "                  'targets': target,\n",
    "                  'targets_bin': targets_bin,\n",
    "                  'date': qdate}\n",
    "        prompts.append(datum)\n",
    "    print(len(prompts), \"prompts generated for\", ticker)\n",
    "    with open('./prompts/full/' + ticker + '.pkl', 'wb') as file:  \n",
    "        pickle.dump(prompts, file)"
   ]
  },
  {
   "cell_type": "code",
   "execution_count": 16,
   "id": "0c7d1e19",
   "metadata": {},
   "outputs": [
    {
     "name": "stdout",
     "output_type": "stream",
     "text": [
      "Apple Inc. designs, manufactures, and sells consumer electronics, software, and services, operating in the technology industry.\n",
      "News Summaries:\n",
      "- Tesla CEO Elon Musk halts Model Y production to avoid \"production hell\" experienced with Model 3\n",
      "- Apple supplier Foxconn reports 15% profit drop due to slower growth in iPhone shipments\n",
      "- Warren Buffett's Berkshire Hathaway prepares for future without him, with new vice chairmen overseeing business units\n",
      "- Fidelity employees fired for alleged misuse of reimbursement programs, including fraudulent purchases and cancellations with company reimbursement\n",
      "- Amazon discloses that over a million U.S. small businesses sell on its site\n",
      "- Apple announces a $100 billion buyback plan for its stock\n",
      "- Apple collaborates with Goldman Sachs on a new credit card under the Apple Pay brand\n",
      "- Amazon's facial recognition technology raises civil rights concerns\n",
      "\n",
      "Financial data for last four quarters from old to new:\n",
      "dates:\t2017-06-30\t2017-09-30\t2017-12-31\t2018-03-31\n",
      "total revenue:\t45.41B\t52.58B\t88.29B\t61.14B\n",
      "net income:\t8.72B\t10.71B\t20.07B\t13.82B\n",
      "total assets:\t345.17B\t375.32B\t406.79B\t367.50B\n",
      "average market price:\t34.474\t36.312\t39.302\t40.645\n",
      "earning per share:\t1.686\t2.090\t3.949\t2.796\n",
      "free cash flow:\t11.54B\t25.33B\t11.09B\t11.22B\n",
      "quarterly EPS growth:\t-0.193\t-0.471\t0.412\t0.176\n",
      "cashflow to assets:\t0.046\t0.075\t0.037\t0.039\n",
      "operating margin:\t0.237\t0.250\t0.298\t0.260\n",
      "historic price data:\n",
      "Moving average for monthly price data for past 6 moths: 40.482, 40.913, 39.682, 41.263, 40.153, 44.034\n"
     ]
    }
   ],
   "source": [
    "with open('./prompts/full/' + 'AAPL' + '.pkl', 'rb') as file:  \n",
    "    ddd = pickle.load(file)\n",
    "print(ddd[0]['prompt'])\n",
    "ddd[0]"
   ]
  },
  {
   "cell_type": "markdown",
   "id": "dfeff9b9",
   "metadata": {},
   "source": [
    "# Check Data Availability"
   ]
  },
  {
   "cell_type": "markdown",
   "id": "0e642ca7",
   "metadata": {},
   "source": [
    "### News Data"
   ]
  },
  {
   "cell_type": "code",
   "execution_count": 8,
   "id": "59868b8e",
   "metadata": {},
   "outputs": [],
   "source": [
    "start_date = '2015-01-01'\n",
    "end_date = '2024-01-01'\n",
    "date_range = pd.date_range(start=start_date, end=end_date, freq='MS')\n",
    "formatted_dates = date_range.strftime('%Y-%m-%d').tolist()"
   ]
  },
  {
   "cell_type": "code",
   "execution_count": 17,
   "id": "fabe53f5",
   "metadata": {},
   "outputs": [],
   "source": [
    "def r44(value):\n",
    "    return f\"{round(value, 3):.3f}\"\n",
    "def get_all_news(date, ticker, time_line):\n",
    "    try:\n",
    "        a = len(historic_news_wsj(ticker, date, time_line))\n",
    "    except:\n",
    "        a = 0\n",
    "    try:\n",
    "        b = len(historic_news_nyt(ticker, date, time_line))\n",
    "    except:\n",
    "        b = 0\n",
    "    try:\n",
    "        c = len(historic_news_cmin(ticker, date, time_line))\n",
    "    except:\n",
    "        c = 0\n",
    "    try:\n",
    "        d = len(historic_news_alphav(ticker, date, time_line))\n",
    "    except:\n",
    "        d = 0\n",
    "    \n",
    "    return a+b+c+d\n"
   ]
  },
  {
   "cell_type": "code",
   "execution_count": 10,
   "id": "1d89b817",
   "metadata": {},
   "outputs": [
    {
     "name": "stderr",
     "output_type": "stream",
     "text": [
      "100%|██████████| 109/109 [16:59<00:00,  9.35s/it]\n"
     ]
    }
   ],
   "source": [
    "import contextlib\n",
    "import sys\n",
    "\n",
    "period = '1m'\n",
    "results = []\n",
    "for i in tqdm(formatted_dates):\n",
    "    for ticker, name in zip(company100_ticker,company100_name_shorten):\n",
    "        with contextlib.redirect_stdout(None):\n",
    "            n = get_all_news(i, ticker, period)\n",
    "            results.append(n)"
   ]
  },
  {
   "cell_type": "code",
   "execution_count": 11,
   "id": "7a2bf5d2",
   "metadata": {},
   "outputs": [
    {
     "name": "stderr",
     "output_type": "stream",
     "text": [
      "100%|██████████| 109/109 [16:43<00:00,  9.21s/it]\n"
     ]
    }
   ],
   "source": [
    "period = '3m'\n",
    "results3 = []\n",
    "for i in tqdm(formatted_dates):\n",
    "    for ticker, name in zip(company100_ticker,company100_name_shorten):\n",
    "        with contextlib.redirect_stdout(None):\n",
    "            n = get_all_news(i, ticker, period)\n",
    "            results3.append(n)"
   ]
  },
  {
   "cell_type": "code",
   "execution_count": 12,
   "id": "3978e2de",
   "metadata": {},
   "outputs": [
    {
     "data": {
      "text/plain": [
       "1"
      ]
     },
     "execution_count": 12,
     "metadata": {},
     "output_type": "execute_result"
    }
   ],
   "source": [
    "results[0]"
   ]
  },
  {
   "cell_type": "code",
   "execution_count": 32,
   "id": "11396f4d",
   "metadata": {},
   "outputs": [
    {
     "data": {
      "image/png": "[encoded data removed]",
      "text/plain": [
       "<Figure size 1000x600 with 1 Axes>"
      ]
     },
     "metadata": {},
     "output_type": "display_data"
    }
   ],
   "source": [
    "import matplotlib.pyplot as plt\n",
    "\n",
    "def create_histogram(data, bins=10, title='Histogram', xlabel='', ylabel='Frequency'):\n",
    "    plt.figure(figsize=(10, 6))\n",
    "    plt.hist(data, bins=bins, edgecolor='black')\n",
    "    plt.title(title)\n",
    "    plt.xlabel(xlabel)\n",
    "    plt.ylabel(ylabel)\n",
    "    plt.grid(True)\n",
    "    plt.savefig('./hist1.png', dpi = 300)\n",
    "\n",
    "data = [i for i in results if i < 500 and i > 2]\n",
    "percent = r44(len(data)/len(results)*100)\n",
    "create_histogram(data, bins=500, \n",
    "                 title='# News Histogram -- One Month Span Before the Query\\n \\\n",
    "                 Sample Size: ' + str(len(results)) + ', ' + percent + '% Available Between 2 and 500 News                ', \n",
    "                 xlabel='Number of news Generated per Query', ylabel='Count')\n"
   ]
  },
  {
   "cell_type": "markdown",
   "id": "663d606a",
   "metadata": {},
   "source": [
    "### Financials"
   ]
  },
  {
   "cell_type": "code",
   "execution_count": 17,
   "id": "8b717a29",
   "metadata": {},
   "outputs": [
    {
     "data": {
      "text/plain": [
       "11990"
      ]
     },
     "execution_count": 17,
     "metadata": {},
     "output_type": "execute_result"
    }
   ],
   "source": [
    "for ticker, name in zip(company100_ticker,company100_name_shorten):\n",
    "    try:\n",
    "        a = get_target(ticker, '2020-01-01', binn = False)\n",
    "        a = get_momentums(ticker, '2020-01-01', binn = False)\n",
    "        a = historic_moving_average_6m(ticker, '2020-01-01')\n",
    "        a = historic_moving_std_6m(ticker, '2020-01-01')\n",
    "        a = historic_vol_moving_average_6m(ticker, '2020-01-01')\n",
    "        a = historic_6m(ticker, '2020-01-01')\n",
    "    except:\n",
    "        print('no data for:', ticker, name)"
   ]
  },
  {
   "cell_type": "code",
   "execution_count": null,
   "id": "13a5b788",
   "metadata": {},
   "outputs": [],
   "source": [
    "all_news_count = []\n",
    "for ticker, name in zip(company100_ticker,company100_name_shorten):\n",
    "    try:\n",
    "        a = 100 #historic_news_wsj(ticker, '2024-06-31', '120m')\n",
    "    except:\n",
    "        print('no wsj data for:', ticker, name)\n",
    "    try:\n",
    "        b = len(historic_news_nyt(ticker, '2024-06-30', '120m'))\n",
    "    except:\n",
    "        print('no nyt data for:', ticker, name)\n",
    "    try:\n",
    "        c = len(historic_news_cmin(ticker, '2024-06-30', '120m'))\n",
    "    except:\n",
    "        print('no cmin data for:', ticker, name)\n",
    "    try:\n",
    "        d = len(historic_news_alphav(ticker, '2024-06-30', '120m'))\n",
    "    except:\n",
    "        print('no alphav data for:', ticker, name)\n",
    "    all_news_count.append(d)\n",
    "print('total of', sum(all_news_count), 'articles.')"
   ]
  },
  {
   "cell_type": "markdown",
   "id": "a704be0c",
   "metadata": {},
   "source": [
    "### Financials"
   ]
  },
  {
   "cell_type": "code",
   "execution_count": 10,
   "id": "439ef810",
   "metadata": {},
   "outputs": [
    {
     "name": "stdout",
     "output_type": "stream",
     "text": [
      "no data for: FB facebook\n",
      "no data for: BBL BHP\n",
      "no data for: SNPMF China Petroleum\n",
      "no data for: SPG Simon Property\n",
      "no data for: C Citigroup\n",
      "no data for: PTR PetroChina\n",
      "no data for: RDS-B Royal Dutch\n",
      "no data for: WFC Wells Fargo\n"
     ]
    }
   ],
   "source": [
    "for ticker, name in zip(company100_ticker,company100_name_shorten):\n",
    "    try:\n",
    "        a = financials_nq(ticker, '2024-12-01', 40)\n",
    "    except:\n",
    "        print('no data for:', ticker, name)\n"
   ]
  }
 ],
 "metadata": {
  "kernelspec": {
   "display_name": "Python 3 (ipykernel)",
   "language": "python",
   "name": "python3"
  },
  "language_info": {
   "codemirror_mode": {
    "name": "ipython",
    "version": 3
   },
   "file_extension": ".py",
   "mimetype": "text/x-python",
   "name": "python",
   "nbconvert_exporter": "python",
   "pygments_lexer": "ipython3",
   "version": "3.11.4"
  }
 },
 "nbformat": 4,
 "nbformat_minor": 5
}

{
 "cells": [
  {
   "cell_type": "code",
   "execution_count": 13,
   "metadata": {},
   "outputs": [],
   "source": [
    "import numpy as np\n",
    "import pandas as pd\n",
    "from dateutil.relativedelta import relativedelta\n",
    "from datetime import datetime\n",
    "from datetime import datetime, timedelta\n",
    "historic_data_path = '../../dataset/Historical Price/'\n",
    "dotcsv = '.csv'\n",
    "\n"
   ]
  },
  {
   "cell_type": "code",
   "execution_count": 14,
   "metadata": {},
   "outputs": [],
   "source": [
    "def calculate_future_dates(date_str):\n",
    "    input_date = datetime.strptime(date_str, '%Y-%m-%d')\n",
    "    date_1_months = input_date + relativedelta(months=1)\n",
    "    date_3_months = input_date + relativedelta(months=3)\n",
    "    date_6_months = input_date + relativedelta(months=6)\n",
    "    return date_1_months.strftime('%Y-%m-%d'), date_3_months.strftime('%Y-%m-%d'), date_6_months.strftime('%Y-%m-%d')\n",
    "\n",
    "\n",
    "def get_target(company_ticker, qdate, binn = False):\n",
    "    try: \n",
    "        historical_data = pd.read_csv(historic_data_path+company_ticker+dotcsv)\n",
    "        historical_data['Date'] = pd.to_datetime(historical_data['Date'])\n",
    "    \n",
    "    \n",
    "        mo1, mo3, mo6 = calculate_future_dates(qdate)\n",
    "        fil0 = np.array(historical_data[historical_data['Date'] >= pd.to_datetime(qdate)]['Close'])[0]\n",
    "        fil1d = np.array(historical_data[historical_data['Date'] >= pd.to_datetime(qdate)]['Close'])[1]\n",
    "        fil10d = np.array(historical_data[historical_data['Date'] >= pd.to_datetime(qdate)]['Close'])[10]\n",
    "        fil1 = np.array(historical_data[historical_data['Date'] >= pd.to_datetime(mo1)]['Close'])[0]\n",
    "        fil3 = np.array(historical_data[historical_data['Date'] >= pd.to_datetime(mo3)]['Close'])[0]\n",
    "        fil6 = np.array(historical_data[historical_data['Date'] >= pd.to_datetime(mo6)]['Close'])[0]\n",
    "    \n",
    "        change1d, change10d = fil1d / fil0 - 1,\\\n",
    "                            fil10d / fil0 - 1\n",
    "        change1, change3, change6 = fil1 / fil0 - 1,\\\n",
    "                                    fil3 / fil0 - 1,\\\n",
    "                                    fil6 / fil0 - 1\n",
    "        if binn:\n",
    "            change1d, change10d, change1, change3, change6 = True if change1d > 0 else False,\\\n",
    "                    True if change10d > 0 else False,\\\n",
    "                    True if change1 > 0 else False,\\\n",
    "                    True if change3 > 0 else False,\\\n",
    "                    True if change6 > 0 else False\n",
    "    except Exception as e:\n",
    "        return (-1, e)\n",
    "    return (1, {'1d': change1d, '10d': change10d, '1m': change1, '3m': change3, '6m': change6})"
   ]
  },
  {
   "cell_type": "code",
   "execution_count": 16,
   "metadata": {},
   "outputs": [
    {
     "data": {
      "text/plain": [
       "(1,\n",
       " {'1d': -0.0013403742233631943,\n",
       "  '10d': 0.012681107072633369,\n",
       "  '1m': -0.1018353492252374,\n",
       "  '3m': -0.08557550393471203,\n",
       "  '6m': -0.055788099430734706})"
      ]
     },
     "execution_count": 16,
     "metadata": {},
     "output_type": "execute_result"
    }
   ],
   "source": [
    "get_target('AAPL', '2023-07-17')"
   ]
  },
  {
   "cell_type": "code",
   "execution_count": null,
   "metadata": {},
   "outputs": [],
   "source": []
  }
 ],
 "metadata": {
  "kernelspec": {
   "display_name": "env_python",
   "language": "python",
   "name": "python3"
  },
  "language_info": {
   "codemirror_mode": {
    "name": "ipython",
    "version": 3
   },
   "file_extension": ".py",
   "mimetype": "text/x-python",
   "name": "python",
   "nbconvert_exporter": "python",
   "pygments_lexer": "ipython3",
   "version": "3.11.4"
  }
 },
 "nbformat": 4,
 "nbformat_minor": 2
}

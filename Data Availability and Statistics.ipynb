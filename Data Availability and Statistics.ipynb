{
 "cells": [
  {
   "cell_type": "markdown",
   "id": "20e94d3a",
   "metadata": {},
   "source": [
    "# data availability and states\n",
    "\n",
    "date format in this notebook is yyyy-mm-dd"
   ]
  },
  {
   "cell_type": "code",
   "execution_count": 1,
   "id": "16954e14",
   "metadata": {},
   "outputs": [],
   "source": [
    "import os\n",
    "import re\n",
    "import pandas as pd\n",
    "import numpy as np\n",
    "from tqdm import tqdm\n",
    "import matplotlib.pyplot as plt\n",
    "import datetime\n",
    "from dateutil.relativedelta import relativedelta\n",
    "from datetime import datetime\n",
    "from datetime import datetime, timedelta"
   ]
  },
  {
   "cell_type": "code",
   "execution_count": 2,
   "id": "cb6f2a4f",
   "metadata": {},
   "outputs": [],
   "source": [
    "from utils.evaluate import evaluate\n",
    "from utils.openai import OpenAIEmbedding\n",
    "from utils.companies import company100_name, company100_name_shorten, company100_ticker"
   ]
  },
  {
   "cell_type": "code",
   "execution_count": 3,
   "id": "e51bda5d",
   "metadata": {},
   "outputs": [],
   "source": [
    "from DataProcessor.historic import get_target, get_momentums, historic_moving_average_6m\n",
    "from DataProcessor.historic import historic_vol_moving_average_6m, historic_6m"
   ]
  },
  {
   "cell_type": "code",
   "execution_count": 4,
   "id": "f2ef3c84",
   "metadata": {},
   "outputs": [],
   "source": [
    "from DataProcessor.news import historic_news_wsj, historic_news_nyt, historic_news_cmin, historic_news_alphav"
   ]
  },
  {
   "cell_type": "markdown",
   "id": "9a4d9eda",
   "metadata": {},
   "source": [
    "## Directories"
   ]
  },
  {
   "cell_type": "code",
   "execution_count": 5,
   "id": "2f63e44e",
   "metadata": {},
   "outputs": [],
   "source": [
    "dataset_path = '../dataset/'\n",
    "historic_data_path = '../dataset/Historical Price/'\n",
    "financials_data_path = '../dataset/Financial Quarterly Reports/'\n",
    "news_data_path = '../dataset/News Articles/'\n",
    "news_wsj_path = '../dataset/News Articles/WSJ-Header/'\n",
    "news_nyt_path = '../dataset/News Articles/NYT/110/'\n",
    "news_alphav_path = '../dataset/News Articles/Alpha-V/without text 104/'\n",
    "news_CMINUS_path = '../dataset/News Articles/CMIN-US/'\n",
    "dotcsv = '.csv'"
   ]
  },
  {
   "cell_type": "code",
   "execution_count": 6,
   "id": "ac7f21dd",
   "metadata": {},
   "outputs": [],
   "source": [
    "def get_dir_list(path):\n",
    "    listt = os.listdir(path)\n",
    "    if '.DS_Store' in listt:\n",
    "        listt.remove('.DS_Store')\n",
    "    if '.ipynb_checkpoints' in listt:\n",
    "        listt.remove('.ipynb_checkpoints')\n",
    "    return listt"
   ]
  },
  {
   "cell_type": "markdown",
   "id": "dfeff9b9",
   "metadata": {},
   "source": [
    "### Historic Data"
   ]
  },
  {
   "cell_type": "code",
   "execution_count": 7,
   "id": "69adbae6",
   "metadata": {},
   "outputs": [
    {
     "name": "stdout",
     "output_type": "stream",
     "text": [
      "no data for: BBL BHP\n",
      "no data for: PTR PetroChina\n",
      "no data for: RDS-B Royal Dutch\n"
     ]
    }
   ],
   "source": [
    "for ticker, name in zip(company100_ticker,company100_name_shorten):\n",
    "    try:\n",
    "        a = get_target(ticker, '2020-01-01', binn = False)\n",
    "        a = get_momentums(ticker, '2020-01-01', binn = False)\n",
    "        a = historic_moving_average_6m(ticker, '2020-01-01')\n",
    "        a = historic_vol_moving_average_6m(ticker, '2020-01-01')\n",
    "        a = historic_6m(ticker, '2020-01-01')\n",
    "    except:\n",
    "        print('no data for:', ticker, name)"
   ]
  },
  {
   "cell_type": "markdown",
   "id": "0e642ca7",
   "metadata": {},
   "source": [
    "### News Data"
   ]
  },
  {
   "cell_type": "code",
   "execution_count": 14,
   "id": "fabe53f5",
   "metadata": {},
   "outputs": [
    {
     "name": "stdout",
     "output_type": "stream",
     "text": [
      "no alphav data for: BBL BHP\n",
      "no nyt data for: DD DuPont\n",
      "no nyt data for: SNPMF China Petroleum\n",
      "no alphav data for: PTR PetroChina\n",
      "no alphav data for: RDS-B Royal Dutch\n",
      "no alphav data for: JPM JPMorgan\n",
      "total of 984740 articles.\n"
     ]
    }
   ],
   "source": [
    "all_news_count = []\n",
    "for ticker, name in zip(company100_ticker,company100_name_shorten):\n",
    "    try:\n",
    "        a = 100 #historic_news_wsj(ticker, '2024-06-31', '120m')\n",
    "    except:\n",
    "        print('no wsj data for:', ticker, name)\n",
    "    try:\n",
    "        b = len(historic_news_nyt(ticker, '2024-06-30', '120m'))\n",
    "    except:\n",
    "        print('no nyt data for:', ticker, name)\n",
    "    try:\n",
    "        c = len(historic_news_cmin(ticker, '2024-06-30', '120m'))\n",
    "    except:\n",
    "        print('no cmin data for:', ticker, name)\n",
    "    try:\n",
    "        d = len(historic_news_alphav(ticker, '2024-06-30', '120m'))\n",
    "    except:\n",
    "        print('no alphav data for:', ticker, name)\n",
    "    all_news_count.append(a+b+c+d)\n",
    "print('total of', sum(all_news_count), 'articles.')"
   ]
  },
  {
   "cell_type": "code",
   "execution_count": null,
   "id": "21a5298e",
   "metadata": {},
   "outputs": [],
   "source": []
  },
  {
   "cell_type": "code",
   "execution_count": null,
   "id": "5c1efd08",
   "metadata": {},
   "outputs": [],
   "source": []
  },
  {
   "cell_type": "code",
   "execution_count": null,
   "id": "43df5b48",
   "metadata": {},
   "outputs": [],
   "source": []
  }
 ],
 "metadata": {
  "kernelspec": {
   "display_name": "env_python",
   "language": "python",
   "name": "env_python"
  },
  "language_info": {
   "codemirror_mode": {
    "name": "ipython",
    "version": 3
   },
   "file_extension": ".py",
   "mimetype": "text/x-python",
   "name": "python",
   "nbconvert_exporter": "python",
   "pygments_lexer": "ipython3",
   "version": "3.11.4"
  }
 },
 "nbformat": 4,
 "nbformat_minor": 5
}
